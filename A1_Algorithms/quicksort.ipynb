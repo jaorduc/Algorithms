{
 "cells": [
  {
   "cell_type": "markdown",
   "metadata": {},
   "source": [
    "# Quicksort Sort \n",
    "#### By: Javier Orduz\n",
    "[license-badge]: https://img.shields.io/badge/License-CC-orange\n",
    "[license]: https://creativecommons.org/licenses/by-nc-sa/3.0/deed.en\n",
    "[![CC License][license-badge]][license]\n",
    "[![DS](https://img.shields.io/badge/downloads-DS-green)](https://github.com/Earlham-College/DS_Fall_2022)\n",
    "[![Github](https://img.shields.io/badge/jaorduz-repos-blue)](https://github.com/jaorduz/)\n",
    "[![Github](https://img.shields.io/badge/jaorduc-repos-blue)](https://github.com/jaorduc/)\n",
    "![Follow @jaorduc](https://img.shields.io/twitter/follow/jaorduc?label=follow&logo=twitter&logoColor=lkj&style=plastic)\n",
    "\n",
    "<!--\n",
    "we can define jaccard as ```the size of the intersection divided by the size of the union of the two label sets.``` \n",
    "-->\n",
    "This implementation utilizes pivot as the last element in the nums list. \n",
    "It has a pointer to keep track of the elements smaller than the pivot. \n",
    "At the very end of ```partition()``` function, the pointer is swapped with the pivot\n",
    "to come up with a \"sorted\" nums relative to the pivot."
   ]
  },
  {
   "cell_type": "markdown",
   "metadata": {},
   "source": [
    "# Function to find the partition position\n",
    "This function has the partition routine, as follows\n",
    "1. choose the rightmost element as pivot\n",
    "1. pointer for greater element\n",
    "1. traverse through all elements and compare each element with pivot\n",
    "1. Inside the ```For``` loop there is a conditional to \n",
    "    1. If element smaller than pivot is found and swap it with the greater element pointed by i\n",
    "    1. Swapping element at i with element at j\n",
    "1. Swap the pivot element with the greater element specified by i. \n",
    "1. Return the position from where partition is done"
   ]
  },
  {
   "cell_type": "code",
   "execution_count": 2,
   "metadata": {},
   "outputs": [],
   "source": [
    "def partition(array, low, high):\n",
    "    pivot = array[high]                                         # 1\n",
    "    i = low - 1                                                 # 2\n",
    "    for j in range(low, high):                                  # 3\n",
    "        if array[j] <= pivot:\n",
    "            i = i + 1                                           # 4.1\n",
    "            (array[i], array[j]) = (array[j], array[i])         # 4.2\n",
    "    (array[i + 1], array[high]) = (array[high], array[i + 1])   # 5\n",
    "    return i + 1                                                # 6"
   ]
  },
  {
   "cell_type": "code",
   "execution_count": 3,
   "metadata": {},
   "outputs": [
    {
     "data": {
      "text/plain": [
       "0"
      ]
     },
     "execution_count": 3,
     "metadata": {},
     "output_type": "execute_result"
    }
   ],
   "source": [
    "data = [1, 7, 4, 1, 10, 9, -2]\n",
    "size = len(data)\n",
    " \n",
    "partition(data, 0, size - 1)"
   ]
  },
  {
   "cell_type": "code",
   "execution_count": 6,
   "metadata": {},
   "outputs": [
    {
     "name": "stdout",
     "output_type": "stream",
     "text": [
      "Unsorted Array\n",
      "[1, 7, 4, 1, 10, 9, -2]\n",
      "Sorted Array in Ascending Order:\n",
      "[-2, 1, 1, 4, 7, 9, 10]\n"
     ]
    },
    {
     "data": {
      "text/plain": [
       "6"
      ]
     },
     "execution_count": 6,
     "metadata": {},
     "output_type": "execute_result"
    }
   ],
   "source": [
    "\n",
    " \n",
    "# function to perform quicksort\n",
    " \n",
    " \n",
    "def quickSort(array, low, high):\n",
    "    if low < high:\n",
    " \n",
    "        # Find pivot element such that\n",
    "        # element smaller than pivot are on the left\n",
    "        # element greater than pivot are on the right\n",
    "        pi = partition(array, low, high)\n",
    " \n",
    "        # Recursive call on the left of pivot\n",
    "        quickSort(array, low, pi - 1)\n",
    " \n",
    "        # Recursive call on the right of pivot\n",
    "        quickSort(array, pi + 1, high)\n",
    " \n",
    " \n",
    "data = [1, 7, 4, 1, 10, 9, -2]\n",
    "print(\"Unsorted Array\")\n",
    "print(data)\n",
    " \n",
    "size = len(data)\n",
    " \n",
    "quickSort(data, 0, size - 1)\n",
    " \n",
    "print('Sorted Array in Ascending Order:')\n",
    "print(data)\n",
    "\n",
    "partition(data, 0, size - 1)"
   ]
  },
  {
   "cell_type": "markdown",
   "metadata": {},
   "source": [
    "# References\n",
    "[1] [link](https://www.geeksforgeeks.org/python-program-for-quicksort/)"
   ]
  },
  {
   "cell_type": "code",
   "execution_count": null,
   "metadata": {},
   "outputs": [],
   "source": []
  }
 ],
 "metadata": {
  "kernelspec": {
   "display_name": "Python 3 (ipykernel)",
   "language": "python",
   "name": "python3"
  },
  "language_info": {
   "codemirror_mode": {
    "name": "ipython",
    "version": 3
   },
   "file_extension": ".py",
   "mimetype": "text/x-python",
   "name": "python",
   "nbconvert_exporter": "python",
   "pygments_lexer": "ipython3",
   "version": "3.10.8"
  }
 },
 "nbformat": 4,
 "nbformat_minor": 4
}
