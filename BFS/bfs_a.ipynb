{
 "cells": [
  {
   "cell_type": "markdown",
   "metadata": {},
   "source": [
    "# Example: DFS\n",
    "\n",
    "<img\n",
    "src=\"https://favtutor.com/resources/images/uploads/mceu_20415923611620748297228.jpg\" width=\"350\" align=\"center\">\n",
    "\n",
    "\n",
    "<img\n",
    "src=\"https://favtutor.com/resources/images/uploads/mceu_95161652621620748322635.jpg\" width=\"350\" align=\"center\">\n",
    "\n",
    "\n",
    "<img\n",
    "src=\"https://favtutor.com/resources/images/uploads/mceu_63605439831620748359725.jpg\" width=\"350\" align=\"center\">\n",
    "\n",
    "\n",
    "<img\n",
    "src=\"https://favtutor.com/resources/images/uploads/mceu_58845362641620748384369.jpg\" width=\"350\" align=\"center\">\n",
    "\n",
    "\n",
    "<img\n",
    "src=\"https://favtutor.com/resources/images/uploads/mceu_78656949551620748416259.jpg\" width=\"350\" align=\"center\">\n",
    "\n",
    "\n",
    "\n",
    "<img\n",
    "src=\"https://favtutor.com/resources/images/uploads/mceu_71339764061620748458808.jpg\" width=\"350\" align=\"center\">\n",
    "\n"
   ]
  },
  {
   "cell_type": "code",
   "execution_count": 1,
   "metadata": {},
   "outputs": [
    {
     "name": "stdout",
     "output_type": "stream",
     "text": [
      "Following is the Breadth-First Search\n",
      "5 3 7 2 4 8 "
     ]
    }
   ],
   "source": [
    "graph = {\n",
    "  '5' : ['3','7'],\n",
    "  '3' : ['2', '4'],\n",
    "  '7' : ['8'],\n",
    "  '2' : [],\n",
    "  '4' : ['8'],\n",
    "  '8' : []\n",
    "}\n",
    "\n",
    "visited = [] # List for visited nodes.\n",
    "queue = []     #Initialize a queue\n",
    "\n",
    "def bfs(visited, graph, node): #function for BFS\n",
    "  visited.append(node)\n",
    "  queue.append(node)\n",
    "\n",
    "  while queue:          # Creating loop to visit each node\n",
    "    m = queue.pop(0) \n",
    "    print (m, end = \" \") \n",
    "\n",
    "    for neighbour in graph[m]:\n",
    "      if neighbour not in visited:\n",
    "        visited.append(neighbour)\n",
    "        queue.append(neighbour)\n",
    "\n",
    "# Driver Code\n",
    "print(\"Following is the Breadth-First Search\")\n",
    "bfs(visited, graph, '5')    # function calling\n",
    "\n",
    " "
   ]
  }
 ],
 "metadata": {
  "kernelspec": {
   "display_name": "Python 3",
   "language": "python",
   "name": "python3"
  },
  "language_info": {
   "codemirror_mode": {
    "name": "ipython",
    "version": 3
   },
   "file_extension": ".py",
   "mimetype": "text/x-python",
   "name": "python",
   "nbconvert_exporter": "python",
   "pygments_lexer": "ipython3",
   "version": "3.10.13"
  }
 },
 "nbformat": 4,
 "nbformat_minor": 2
}
