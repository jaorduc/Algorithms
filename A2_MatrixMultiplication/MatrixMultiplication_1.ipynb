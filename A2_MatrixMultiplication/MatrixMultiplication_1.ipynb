{
 "cells": [
  {
   "cell_type": "markdown",
   "id": "5a6ae5d4-c2a5-45a8-8063-c78baf389300",
   "metadata": {},
   "source": [
    "# Algorithms\n",
    "## Matrix Multiplication\n",
    "#### By: Javier Orduz\n",
    "\n",
    "[licenseBDG]: https://img.shields.io/badge/License-CC-orange?style=plastic\n",
    "[license]: https://creativecommons.org/licenses/by-nc-sa/3.0/deed.en\n",
    "\n",
    "[mywebsiteBDG]:https://img.shields.io/badge/website-jaorduz.github.io-0abeeb?style=plastic\n",
    "[mywebsite]: https://jaorduz.github.io/\n",
    "\n",
    "[mygithubBDG-jaorduz]: https://img.shields.io/badge/jaorduz-repos-blue?logo=github&label=jaorduz&style=plastic\n",
    "[mygithub-jaorduz]: https://github.com/jaorduz/\n",
    "\n",
    "[mygithubBDG-jaorduc]: https://img.shields.io/badge/jaorduc-repos-blue?logo=github&label=jaorduc&style=plastic \n",
    "[mygithub-jaorduc]: https://github.com/jaorduc/\n",
    "\n",
    "[myXprofileBDG]: https://img.shields.io/static/v1?label=Follow&message=jaorduc&color=2ea44f&style=plastic&logo=X&logoColor=black\n",
    "[myXprofile]:https://twitter.com/jaorduc\n",
    "\n",
    "\n",
    "[![website - jaorduz.github.io][mywebsiteBDG]][mywebsite]\n",
    "[![Github][mygithubBDG-jaorduz]][mygithub-jaorduz]\n",
    "[![Github][mygithubBDG-jaorduc]][mygithub-jaorduc]\n",
    "[![Follow @jaorduc][myXprofileBDG]][myXprofile]\n",
    "[![CC License][licenseBDG]][license]\n"
   ]
  },
  {
   "cell_type": "markdown",
   "id": "1e2d1ddf-7ef7-4cac-9afa-7fa68fda0554",
   "metadata": {},
   "source": [
    "We define the matrices"
   ]
  },
  {
   "cell_type": "code",
   "execution_count": 19,
   "id": "01d51f13-27c1-4982-88a6-0a94436cb112",
   "metadata": {},
   "outputs": [],
   "source": [
    "n1 = 3\n",
    "m1 = 2\n",
    "n2 = 2\n",
    "m2 = 3\n",
    "matrix321 = [[3,4],\n",
    "             [7,2],\n",
    "            [5,9]]\n",
    "\n",
    "matrix232 = [[3,1,5],\n",
    "\t\t[6,9,7]]\n"
   ]
  },
  {
   "cell_type": "code",
   "execution_count": 22,
   "id": "8b864559-8bcc-43f9-aa63-53f6bf4fbd9e",
   "metadata": {},
   "outputs": [
    {
     "data": {
      "text/plain": [
       "array([[33, 39, 43],\n",
       "       [33, 25, 49],\n",
       "       [69, 86, 88]])"
      ]
     },
     "execution_count": 22,
     "metadata": {},
     "output_type": "execute_result"
    }
   ],
   "source": [
    "import numpy as np\n",
    "res = np.dot(matrix321,matrix232)\n",
    "res"
   ]
  },
  {
   "cell_type": "markdown",
   "id": "38f3ff5d-9cc5-4666-90a4-5c5517f126c3",
   "metadata": {},
   "source": [
    "Testing with the "
   ]
  },
  {
   "cell_type": "code",
   "execution_count": 20,
   "id": "9da3f65b-8d19-4485-b462-ea11eb0a7827",
   "metadata": {},
   "outputs": [
    {
     "name": "stdout",
     "output_type": "stream",
     "text": [
      "[[33, 39, 43], [33, 25, 49], [69, 86, 88]]\n"
     ]
    }
   ],
   "source": [
    "res2 = [[0 for x in range(n1)] for y in range(m2)] \n",
    "for i in range(len(matrix321)):\n",
    "\tfor j in range(len(matrix232[0])):\n",
    "\t\tfor k in range(len(matrix232)):\n",
    "\t\t\tres2[i][j] += matrix321[i][k] * matrix232[k][j]\n",
    "print (res2)"
   ]
  },
  {
   "cell_type": "markdown",
   "id": "29939a11-25e3-4072-9114-eeed557448c7",
   "metadata": {},
   "source": [
    "Explicit for loops."
   ]
  },
  {
   "cell_type": "code",
   "execution_count": null,
   "id": "0372e06d-6679-43b7-8f82-d8d7b81c7f90",
   "metadata": {},
   "outputs": [],
   "source": [
    "n = 2\n",
    "m = 2\n",
    "matrix221 = [[3,4],\n",
    "            [5, 9]]\n",
    "\n",
    "matrix222 = [[5,8],\n",
    "\t\t[4,5]]\n"
   ]
  },
  {
   "cell_type": "code",
   "execution_count": null,
   "id": "1582cfcb-2904-491b-b424-e7f584b7fc3a",
   "metadata": {},
   "outputs": [],
   "source": [
    "res = [[0 for x in range(n)] for y in range(m)] "
   ]
  },
  {
   "cell_type": "code",
   "execution_count": null,
   "id": "f865da07-5f8c-4cd1-8e75-abb3d51c64ff",
   "metadata": {},
   "outputs": [],
   "source": [
    "for i in range(len(matrix221)):\n",
    "\tfor j in range(len(matrix222[0])):\n",
    "\t\tfor k in range(len(matrix222)):\n",
    "\t\t\tres[i][j] += matrix221[i][k] * matrix222[k][j]\n",
    "\n",
    "print (res)\n"
   ]
  },
  {
   "cell_type": "markdown",
   "id": "0d123045-cc47-48dd-88ae-ca1413df16f7",
   "metadata": {
    "jp-MarkdownHeadingCollapsed": true
   },
   "source": [
    "# References\n",
    "[1] https://www.geeksforgeeks.org/multiplication-two-matrices-single-line-using-numpy-python/"
   ]
  }
 ],
 "metadata": {
  "kernelspec": {
   "display_name": "Python 3 (ipykernel)",
   "language": "python",
   "name": "python3"
  },
  "language_info": {
   "codemirror_mode": {
    "name": "ipython",
    "version": 3
   },
   "file_extension": ".py",
   "mimetype": "text/x-python",
   "name": "python",
   "nbconvert_exporter": "python",
   "pygments_lexer": "ipython3",
   "version": "3.11.7"
  }
 },
 "nbformat": 4,
 "nbformat_minor": 5
}
