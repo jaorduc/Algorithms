{
 "cells": [
  {
   "cell_type": "markdown",
   "id": "13e36f2c-f0bf-4213-934b-09b9fb89f8be",
   "metadata": {},
   "source": [
    "# Kruskal's algorithm in Python\n",
    "#### By: Javier Orduz\n",
    "[license-badge]: https://img.shields.io/badge/License-CC-orange\n",
    "[license]: https://creativecommons.org/licenses/by-nc-sa/3.0/deed.en\n",
    "[![CC License][license-badge]][license]\n",
    "[![DS](https://img.shields.io/badge/downloads-DS-green)](https://github.com/Earlham-College/DS_Fall_2022)\n",
    "[![Github](https://img.shields.io/badge/jaorduz-repos-blue)](https://github.com/jaorduz/)\n",
    "[![Github](https://img.shields.io/badge/jaorduc-repos-blue)](https://github.com/jaorduc/)\n",
    "![Follow @jaorduc](https://img.shields.io/twitter/follow/jaorduc?label=follow&logo=twitter&logoColor=lkj&style=plastic)\n",
    "\n",
    "<!--\n",
    "we can define jaccard as ```the size of the intersection divided by the size of the union of the two label sets.``` \n",
    "-->"
   ]
  },
  {
   "cell_type": "markdown",
   "id": "9f203afc-6a50-47d1-ba7f-f60a50acefd5",
   "metadata": {},
   "source": [
    "\n",
    "The main memory locations used are:\n",
    "\n",
    "1. ```python\n",
    "   parent[]\n",
    "   ``` \n",
    "   An array of size V that tracks the parent node for each node. Initialized to -1 for all nodes.\n",
    "1. ```python\n",
    "   rank[]\n",
    "   ``` \n",
    "   An array of size V that tracks the rank or depth of each node. Used to optimize the find() and union() operations. Initialized to 0 for all nodes.\n",
    "1. MST: A set that will contain the edges of the final minimum spanning tree. Initialized to an empty set.\n"
   ]
  },
  {
   "cell_type": "markdown",
   "id": "e2efc1ea-e2ff-4846-a0bd-62f91abcdbc7",
   "metadata": {},
   "source": [
    "1. We start with a weighted graph\n",
    "<img\n",
    "src=\"https://cdn.programiz.com/sites/tutorial2program/files/ka-1.png\" width=\"350\" align=\"center\">\n",
    "\n",
    "\n",
    "2. Choose the edge with the least weight, if there are more than 1, choose anyone\n",
    "<img\n",
    "src=\"https://cdn.programiz.com/sites/tutorial2program/files/ka-2.png\" width=\"350\" align=\"center\">\n",
    "\n",
    "\n",
    "3. Choose the next shortest edge and add it\n",
    "<img\n",
    "src=\"https://cdn.programiz.com/sites/tutorial2program/files/ka-3.png\" width=\"350\" align=\"center\">\n",
    "\n",
    "\n",
    "4. Choose the next shortest edge that doesn't create a cycle and add it\n",
    "<img\n",
    "src=\"https://cdn.programiz.com/sites/tutorial2program/files/ka-4.png\" width=\"350\" align=\"center\">\n",
    "\n",
    "\n",
    "5. Choose the next shortest edge that doesn't create a cycle and add it\n",
    "<img\n",
    "src=\"https://cdn.programiz.com/sites/tutorial2program/files/ka-5.png\" width=\"350\" align=\"center\">\n",
    "\n",
    "\n",
    "6. Repeat until you have a spanning tree\n",
    "<img\n",
    "src=\"https://cdn.programiz.com/sites/tutorial2program/files/ka-6.png\" width=\"350\" align=\"center\">"
   ]
  },
  {
   "cell_type": "code",
   "execution_count": 3,
   "id": "022d2d9b-cecd-4a96-aa35-2f05e61eace2",
   "metadata": {},
   "outputs": [],
   "source": [
    "class Graph:\n",
    "    def __init__(self, vertices):\n",
    "        self.V = vertices\n",
    "        self.graph = []\n",
    "\n",
    "    def add_edge(self, u, v, w):\n",
    "        self.graph.append([u, v, w])\n",
    "\n",
    "    # Search function\n",
    "\n",
    "    def find(self, parent, i):\n",
    "        if parent[i] == i:\n",
    "            return i\n",
    "        return self.find(parent, parent[i])\n",
    "\n",
    "    def apply_union(self, parent, rank, x, y):\n",
    "        xroot = self.find(parent, x)\n",
    "        yroot = self.find(parent, y)\n",
    "        if rank[xroot] < rank[yroot]:\n",
    "            parent[xroot] = yroot\n",
    "        elif rank[xroot] > rank[yroot]:\n",
    "            parent[yroot] = xroot\n",
    "        else:\n",
    "            parent[yroot] = xroot\n",
    "            rank[xroot] += 1\n",
    "\n",
    "    #  Applying Kruskal algorithm\n",
    "    def kruskal_algo(self):\n",
    "        result = []\n",
    "        i, e = 0, 0\n",
    "        self.graph = sorted(self.graph, key=lambda item: item[2])\n",
    "        parent = []\n",
    "        rank = []\n",
    "        for node in range(self.V):\n",
    "            parent.append(node)\n",
    "            rank.append(0)\n",
    "        while e < self.V - 1:\n",
    "            u, v, w = self.graph[i]\n",
    "            i = i + 1\n",
    "            x = self.find(parent, u)\n",
    "            y = self.find(parent, v)\n",
    "            if x != y:\n",
    "                e = e + 1\n",
    "                result.append([u, v, w])\n",
    "                self.apply_union(parent, rank, x, y)\n",
    "        for u, v, weight in result:\n",
    "            print(\"%d - %d: %d\" % (u, v, weight))"
   ]
  },
  {
   "cell_type": "code",
   "execution_count": 4,
   "id": "d75ace12-3248-4ba7-b2d8-5386ab4572ce",
   "metadata": {},
   "outputs": [
    {
     "name": "stdout",
     "output_type": "stream",
     "text": [
      "1 - 2: 2\n",
      "2 - 5: 2\n",
      "2 - 3: 3\n",
      "3 - 4: 3\n",
      "0 - 1: 4\n"
     ]
    }
   ],
   "source": [
    "g = Graph(6)\n",
    "g.add_edge(0, 1, 4)\n",
    "g.add_edge(0, 2, 4)\n",
    "g.add_edge(1, 2, 2)\n",
    "g.add_edge(1, 0, 4)\n",
    "g.add_edge(2, 0, 4)\n",
    "g.add_edge(2, 1, 2)\n",
    "g.add_edge(2, 3, 3)\n",
    "g.add_edge(2, 5, 2)\n",
    "g.add_edge(2, 4, 4)\n",
    "g.add_edge(3, 2, 3)\n",
    "g.add_edge(3, 4, 3)\n",
    "g.add_edge(4, 2, 4)\n",
    "g.add_edge(4, 3, 3)\n",
    "g.add_edge(5, 2, 2)\n",
    "g.add_edge(5, 4, 3)\n",
    "g.kruskal_algo()"
   ]
  },
  {
   "cell_type": "markdown",
   "id": "618903b5-d8bc-483d-9c14-bb1b6f5889f4",
   "metadata": {},
   "source": [
    "# References\n",
    "[1] https://www.programiz.com/dsa/kruskal-algorithm"
   ]
  }
 ],
 "metadata": {
  "kernelspec": {
   "display_name": "Python 3 (ipykernel)",
   "language": "python",
   "name": "python3"
  },
  "language_info": {
   "codemirror_mode": {
    "name": "ipython",
    "version": 3
   },
   "file_extension": ".py",
   "mimetype": "text/x-python",
   "name": "python",
   "nbconvert_exporter": "python",
   "pygments_lexer": "ipython3",
   "version": "3.10.8"
  }
 },
 "nbformat": 4,
 "nbformat_minor": 5
}
