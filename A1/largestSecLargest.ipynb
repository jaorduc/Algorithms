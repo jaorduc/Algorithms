{
 "cells": [
  {
   "cell_type": "markdown",
   "metadata": {},
   "source": [
    "# Largest and Second-Largest"
   ]
  },
  {
   "cell_type": "markdown",
   "metadata": {},
   "source": [
    "Finds the largest and second-largest elements in a list.\n",
    "- Args: list1: A list of elements.\n",
    "- Returns: A tuple containing the largest and second-largest elements in the list."
   ]
  },
  {
   "cell_type": "code",
   "execution_count": 5,
   "metadata": {},
   "outputs": [],
   "source": [
    "def largest_and_second_largest(list1):\n",
    "  largest = list1[0]\n",
    "  second_largest = list1[1]\n",
    "\n",
    "  for element in list1:\n",
    "    if element > largest:\n",
    "      largest = element\n",
    "    elif element > second_largest:\n",
    "      second_largest = element\n",
    "\n",
    "  return largest, second_largest"
   ]
  },
  {
   "cell_type": "markdown",
   "metadata": {},
   "source": [
    "# Example"
   ]
  },
  {
   "cell_type": "code",
   "execution_count": 6,
   "metadata": {},
   "outputs": [
    {
     "name": "stdout",
     "output_type": "stream",
     "text": [
      "789 678\n"
     ]
    }
   ],
   "source": [
    "list1 = [123, 456, 789, 345, 678]\n",
    "(largest, second_largest) = largest_and_second_largest(list1)\n",
    "\n",
    "print(largest, second_largest)"
   ]
  },
  {
   "cell_type": "markdown",
   "metadata": {},
   "source": [
    "# References\n",
    "[1] [geeksforgeeks](https://www.geeksforgeeks.org/find-second-largest-element-array/)"
   ]
  },
  {
   "cell_type": "code",
   "execution_count": null,
   "metadata": {},
   "outputs": [],
   "source": []
  }
 ],
 "metadata": {
  "kernelspec": {
   "display_name": "Python 3",
   "language": "python",
   "name": "python3"
  },
  "language_info": {
   "codemirror_mode": {
    "name": "ipython",
    "version": 3
   },
   "file_extension": ".py",
   "mimetype": "text/x-python",
   "name": "python",
   "nbconvert_exporter": "python",
   "pygments_lexer": "ipython3",
   "version": "3.10.8"
  }
 },
 "nbformat": 4,
 "nbformat_minor": 2
}
