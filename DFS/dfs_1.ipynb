{
 "cells": [
  {
   "cell_type": "markdown",
   "metadata": {},
   "source": [
    "# Example: DFS\n",
    "\n",
    "<img\n",
    "src=\"https://favtutor.com/resources/images/uploads/mceu_98149160421608561023910.jpg\" width=\"350\" align=\"center\">\n",
    "\n",
    "<img\n",
    "src=\"https://favtutor.com/resources/images/uploads/mceu_90508131631608561076079.jpg\" width=\"350\" align=\"center\">\n",
    "\n",
    "\n",
    "<img\n",
    "src=\"https://favtutor.com/resources/images/uploads/mceu_63122706741608561113514.jpg\" width=\"350\" align=\"center\">\n",
    "\n",
    "\n",
    "<img\n",
    "src=\"https://favtutor.com/resources/images/uploads/mceu_80233256851608561134124.jpg\" width=\"350\" align=\"center\">\n",
    "\n",
    "\n",
    "<img\n",
    "src=\"https://favtutor.com/resources/images/uploads/mceu_62821746971608561190080.jpg\" width=\"350\" align=\"center\">\n",
    "\n",
    "\n",
    "<img\n",
    "src=\"https://favtutor.com/resources/images/uploads/mceu_62726748881608561211208.jpg\" width=\"350\" align=\"center\">\n"
   ]
  },
  {
   "cell_type": "code",
   "execution_count": 1,
   "metadata": {},
   "outputs": [
    {
     "name": "stdout",
     "output_type": "stream",
     "text": [
      "Following is the Depth-First Search\n",
      "5\n",
      "3\n",
      "2\n",
      "4\n",
      "8\n",
      "7\n"
     ]
    }
   ],
   "source": [
    "\n",
    "\n",
    "# Using a Python dictionary to act as an adjacency list\n",
    "graph = {\n",
    "  '5' : ['3','7'],\n",
    "  '3' : ['2', '4'],\n",
    "  '7' : ['8'],\n",
    "  '2' : [],\n",
    "  '4' : ['8'],\n",
    "  '8' : []\n",
    "}\n",
    "\n",
    "visited = set() # Set to keep track of visited nodes of graph.\n",
    "\n",
    "def dfs(visited, graph, node):  #function for dfs \n",
    "    if node not in visited:\n",
    "        print (node)\n",
    "        visited.add(node)\n",
    "        for neighbour in graph[node]:\n",
    "            dfs(visited, graph, neighbour)\n",
    "\n",
    "# Driver Code\n",
    "print(\"Following is the Depth-First Search\")\n",
    "dfs(visited, graph, '5')"
   ]
  },
  {
   "cell_type": "markdown",
   "metadata": {},
   "source": [
    "# References\n",
    "\n",
    "[1] https://favtutor.com/blogs/depth-first-search-python"
   ]
  },
  {
   "cell_type": "markdown",
   "metadata": {},
   "source": []
  }
 ],
 "metadata": {
  "kernelspec": {
   "display_name": "Python 3",
   "language": "python",
   "name": "python3"
  },
  "language_info": {
   "codemirror_mode": {
    "name": "ipython",
    "version": 3
   },
   "file_extension": ".py",
   "mimetype": "text/x-python",
   "name": "python",
   "nbconvert_exporter": "python",
   "pygments_lexer": "ipython3",
   "version": "3.10.13"
  }
 },
 "nbformat": 4,
 "nbformat_minor": 2
}
